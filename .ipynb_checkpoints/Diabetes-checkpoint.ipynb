{
 "cells": [
  {
   "cell_type": "markdown",
   "id": "bb6294b7",
   "metadata": {},
   "source": [
    "# Diabetes Prediction"
   ]
  },
  {
   "cell_type": "markdown",
   "id": "d96e9e9e",
   "metadata": {},
   "source": [
    "# Importing required Libraries for processing"
   ]
  },
  {
   "cell_type": "code",
   "execution_count": 1,
   "id": "1680ee6f",
   "metadata": {},
   "outputs": [],
   "source": [
    "import numpy as np\n",
    "import pandas as pd\n",
    "import matplotlib.pyplot as plt\n",
    "import seaborn as sns\n",
    "import warnings\n",
    "warnings.filterwarnings('ignore')"
   ]
  },
  {
   "cell_type": "markdown",
   "id": "ab7f87c6",
   "metadata": {},
   "source": [
    "# Loading the dataset"
   ]
  },
  {
   "cell_type": "code",
   "execution_count": 2,
   "id": "9100c096",
   "metadata": {},
   "outputs": [],
   "source": [
    "data = pd.read_csv('diabetes.csv')"
   ]
  },
  {
   "cell_type": "code",
   "execution_count": 3,
   "id": "b09fe6f7",
   "metadata": {},
   "outputs": [
    {
     "data": {
      "text/html": [
       "<div>\n",
       "<style scoped>\n",
       "    .dataframe tbody tr th:only-of-type {\n",
       "        vertical-align: middle;\n",
       "    }\n",
       "\n",
       "    .dataframe tbody tr th {\n",
       "        vertical-align: top;\n",
       "    }\n",
       "\n",
       "    .dataframe thead th {\n",
       "        text-align: right;\n",
       "    }\n",
       "</style>\n",
       "<table border=\"1\" class=\"dataframe\">\n",
       "  <thead>\n",
       "    <tr style=\"text-align: right;\">\n",
       "      <th></th>\n",
       "      <th>Pregnancies</th>\n",
       "      <th>Glucose</th>\n",
       "      <th>BloodPressure</th>\n",
       "      <th>SkinThickness</th>\n",
       "      <th>Insulin</th>\n",
       "      <th>BMI</th>\n",
       "      <th>DiabetesPedigreeFunction</th>\n",
       "      <th>Age</th>\n",
       "      <th>Outcome</th>\n",
       "    </tr>\n",
       "  </thead>\n",
       "  <tbody>\n",
       "    <tr>\n",
       "      <th>0</th>\n",
       "      <td>6</td>\n",
       "      <td>148</td>\n",
       "      <td>72</td>\n",
       "      <td>35</td>\n",
       "      <td>0</td>\n",
       "      <td>33.6</td>\n",
       "      <td>0.627</td>\n",
       "      <td>50</td>\n",
       "      <td>1</td>\n",
       "    </tr>\n",
       "    <tr>\n",
       "      <th>1</th>\n",
       "      <td>1</td>\n",
       "      <td>85</td>\n",
       "      <td>66</td>\n",
       "      <td>29</td>\n",
       "      <td>0</td>\n",
       "      <td>26.6</td>\n",
       "      <td>0.351</td>\n",
       "      <td>31</td>\n",
       "      <td>0</td>\n",
       "    </tr>\n",
       "    <tr>\n",
       "      <th>2</th>\n",
       "      <td>8</td>\n",
       "      <td>183</td>\n",
       "      <td>64</td>\n",
       "      <td>0</td>\n",
       "      <td>0</td>\n",
       "      <td>23.3</td>\n",
       "      <td>0.672</td>\n",
       "      <td>32</td>\n",
       "      <td>1</td>\n",
       "    </tr>\n",
       "    <tr>\n",
       "      <th>3</th>\n",
       "      <td>1</td>\n",
       "      <td>89</td>\n",
       "      <td>66</td>\n",
       "      <td>23</td>\n",
       "      <td>94</td>\n",
       "      <td>28.1</td>\n",
       "      <td>0.167</td>\n",
       "      <td>21</td>\n",
       "      <td>0</td>\n",
       "    </tr>\n",
       "    <tr>\n",
       "      <th>4</th>\n",
       "      <td>0</td>\n",
       "      <td>137</td>\n",
       "      <td>40</td>\n",
       "      <td>35</td>\n",
       "      <td>168</td>\n",
       "      <td>43.1</td>\n",
       "      <td>2.288</td>\n",
       "      <td>33</td>\n",
       "      <td>1</td>\n",
       "    </tr>\n",
       "  </tbody>\n",
       "</table>\n",
       "</div>"
      ],
      "text/plain": [
       "   Pregnancies  Glucose  BloodPressure  SkinThickness  Insulin   BMI  \\\n",
       "0            6      148             72             35        0  33.6   \n",
       "1            1       85             66             29        0  26.6   \n",
       "2            8      183             64              0        0  23.3   \n",
       "3            1       89             66             23       94  28.1   \n",
       "4            0      137             40             35      168  43.1   \n",
       "\n",
       "   DiabetesPedigreeFunction  Age  Outcome  \n",
       "0                     0.627   50        1  \n",
       "1                     0.351   31        0  \n",
       "2                     0.672   32        1  \n",
       "3                     0.167   21        0  \n",
       "4                     2.288   33        1  "
      ]
     },
     "execution_count": 3,
     "metadata": {},
     "output_type": "execute_result"
    }
   ],
   "source": [
    "data.head()"
   ]
  },
  {
   "cell_type": "markdown",
   "id": "4b7539f1",
   "metadata": {},
   "source": [
    "# Exploratory Data Analysis"
   ]
  },
  {
   "cell_type": "code",
   "execution_count": 4,
   "id": "6c3aecb8",
   "metadata": {},
   "outputs": [
    {
     "data": {
      "text/plain": [
       "Index(['Pregnancies', 'Glucose', 'BloodPressure', 'SkinThickness', 'Insulin',\n",
       "       'BMI', 'DiabetesPedigreeFunction', 'Age', 'Outcome'],\n",
       "      dtype='object')"
      ]
     },
     "execution_count": 4,
     "metadata": {},
     "output_type": "execute_result"
    }
   ],
   "source": [
    "data.columns"
   ]
  },
  {
   "cell_type": "code",
   "execution_count": 5,
   "id": "e32c68f1",
   "metadata": {},
   "outputs": [
    {
     "data": {
      "text/plain": [
       "Pregnancies                   int64\n",
       "Glucose                       int64\n",
       "BloodPressure                 int64\n",
       "SkinThickness                 int64\n",
       "Insulin                       int64\n",
       "BMI                         float64\n",
       "DiabetesPedigreeFunction    float64\n",
       "Age                           int64\n",
       "Outcome                       int64\n",
       "dtype: object"
      ]
     },
     "execution_count": 5,
     "metadata": {},
     "output_type": "execute_result"
    }
   ],
   "source": [
    "data.dtypes"
   ]
  },
  {
   "cell_type": "code",
   "execution_count": 8,
   "id": "871d72b1",
   "metadata": {},
   "outputs": [
    {
     "data": {
      "text/plain": [
       "(768, 9)"
      ]
     },
     "execution_count": 8,
     "metadata": {},
     "output_type": "execute_result"
    }
   ],
   "source": [
    "data.shape"
   ]
  },
  {
   "cell_type": "code",
   "execution_count": 6,
   "id": "138e6a53",
   "metadata": {},
   "outputs": [
    {
     "name": "stdout",
     "output_type": "stream",
     "text": [
      "<class 'pandas.core.frame.DataFrame'>\n",
      "RangeIndex: 768 entries, 0 to 767\n",
      "Data columns (total 9 columns):\n",
      " #   Column                    Non-Null Count  Dtype  \n",
      "---  ------                    --------------  -----  \n",
      " 0   Pregnancies               768 non-null    int64  \n",
      " 1   Glucose                   768 non-null    int64  \n",
      " 2   BloodPressure             768 non-null    int64  \n",
      " 3   SkinThickness             768 non-null    int64  \n",
      " 4   Insulin                   768 non-null    int64  \n",
      " 5   BMI                       768 non-null    float64\n",
      " 6   DiabetesPedigreeFunction  768 non-null    float64\n",
      " 7   Age                       768 non-null    int64  \n",
      " 8   Outcome                   768 non-null    int64  \n",
      "dtypes: float64(2), int64(7)\n",
      "memory usage: 54.1 KB\n"
     ]
    }
   ],
   "source": [
    "data.info()"
   ]
  },
  {
   "cell_type": "code",
   "execution_count": 7,
   "id": "2fe7fb7e",
   "metadata": {},
   "outputs": [
    {
     "data": {
      "text/html": [
       "<div>\n",
       "<style scoped>\n",
       "    .dataframe tbody tr th:only-of-type {\n",
       "        vertical-align: middle;\n",
       "    }\n",
       "\n",
       "    .dataframe tbody tr th {\n",
       "        vertical-align: top;\n",
       "    }\n",
       "\n",
       "    .dataframe thead th {\n",
       "        text-align: right;\n",
       "    }\n",
       "</style>\n",
       "<table border=\"1\" class=\"dataframe\">\n",
       "  <thead>\n",
       "    <tr style=\"text-align: right;\">\n",
       "      <th></th>\n",
       "      <th>Pregnancies</th>\n",
       "      <th>Glucose</th>\n",
       "      <th>BloodPressure</th>\n",
       "      <th>SkinThickness</th>\n",
       "      <th>Insulin</th>\n",
       "      <th>BMI</th>\n",
       "      <th>DiabetesPedigreeFunction</th>\n",
       "      <th>Age</th>\n",
       "      <th>Outcome</th>\n",
       "    </tr>\n",
       "  </thead>\n",
       "  <tbody>\n",
       "    <tr>\n",
       "      <th>count</th>\n",
       "      <td>768.000000</td>\n",
       "      <td>768.000000</td>\n",
       "      <td>768.000000</td>\n",
       "      <td>768.000000</td>\n",
       "      <td>768.000000</td>\n",
       "      <td>768.000000</td>\n",
       "      <td>768.000000</td>\n",
       "      <td>768.000000</td>\n",
       "      <td>768.000000</td>\n",
       "    </tr>\n",
       "    <tr>\n",
       "      <th>mean</th>\n",
       "      <td>3.845052</td>\n",
       "      <td>120.894531</td>\n",
       "      <td>69.105469</td>\n",
       "      <td>20.536458</td>\n",
       "      <td>79.799479</td>\n",
       "      <td>31.992578</td>\n",
       "      <td>0.471876</td>\n",
       "      <td>33.240885</td>\n",
       "      <td>0.348958</td>\n",
       "    </tr>\n",
       "    <tr>\n",
       "      <th>std</th>\n",
       "      <td>3.369578</td>\n",
       "      <td>31.972618</td>\n",
       "      <td>19.355807</td>\n",
       "      <td>15.952218</td>\n",
       "      <td>115.244002</td>\n",
       "      <td>7.884160</td>\n",
       "      <td>0.331329</td>\n",
       "      <td>11.760232</td>\n",
       "      <td>0.476951</td>\n",
       "    </tr>\n",
       "    <tr>\n",
       "      <th>min</th>\n",
       "      <td>0.000000</td>\n",
       "      <td>0.000000</td>\n",
       "      <td>0.000000</td>\n",
       "      <td>0.000000</td>\n",
       "      <td>0.000000</td>\n",
       "      <td>0.000000</td>\n",
       "      <td>0.078000</td>\n",
       "      <td>21.000000</td>\n",
       "      <td>0.000000</td>\n",
       "    </tr>\n",
       "    <tr>\n",
       "      <th>25%</th>\n",
       "      <td>1.000000</td>\n",
       "      <td>99.000000</td>\n",
       "      <td>62.000000</td>\n",
       "      <td>0.000000</td>\n",
       "      <td>0.000000</td>\n",
       "      <td>27.300000</td>\n",
       "      <td>0.243750</td>\n",
       "      <td>24.000000</td>\n",
       "      <td>0.000000</td>\n",
       "    </tr>\n",
       "    <tr>\n",
       "      <th>50%</th>\n",
       "      <td>3.000000</td>\n",
       "      <td>117.000000</td>\n",
       "      <td>72.000000</td>\n",
       "      <td>23.000000</td>\n",
       "      <td>30.500000</td>\n",
       "      <td>32.000000</td>\n",
       "      <td>0.372500</td>\n",
       "      <td>29.000000</td>\n",
       "      <td>0.000000</td>\n",
       "    </tr>\n",
       "    <tr>\n",
       "      <th>75%</th>\n",
       "      <td>6.000000</td>\n",
       "      <td>140.250000</td>\n",
       "      <td>80.000000</td>\n",
       "      <td>32.000000</td>\n",
       "      <td>127.250000</td>\n",
       "      <td>36.600000</td>\n",
       "      <td>0.626250</td>\n",
       "      <td>41.000000</td>\n",
       "      <td>1.000000</td>\n",
       "    </tr>\n",
       "    <tr>\n",
       "      <th>max</th>\n",
       "      <td>17.000000</td>\n",
       "      <td>199.000000</td>\n",
       "      <td>122.000000</td>\n",
       "      <td>99.000000</td>\n",
       "      <td>846.000000</td>\n",
       "      <td>67.100000</td>\n",
       "      <td>2.420000</td>\n",
       "      <td>81.000000</td>\n",
       "      <td>1.000000</td>\n",
       "    </tr>\n",
       "  </tbody>\n",
       "</table>\n",
       "</div>"
      ],
      "text/plain": [
       "       Pregnancies     Glucose  BloodPressure  SkinThickness     Insulin  \\\n",
       "count   768.000000  768.000000     768.000000     768.000000  768.000000   \n",
       "mean      3.845052  120.894531      69.105469      20.536458   79.799479   \n",
       "std       3.369578   31.972618      19.355807      15.952218  115.244002   \n",
       "min       0.000000    0.000000       0.000000       0.000000    0.000000   \n",
       "25%       1.000000   99.000000      62.000000       0.000000    0.000000   \n",
       "50%       3.000000  117.000000      72.000000      23.000000   30.500000   \n",
       "75%       6.000000  140.250000      80.000000      32.000000  127.250000   \n",
       "max      17.000000  199.000000     122.000000      99.000000  846.000000   \n",
       "\n",
       "              BMI  DiabetesPedigreeFunction         Age     Outcome  \n",
       "count  768.000000                768.000000  768.000000  768.000000  \n",
       "mean    31.992578                  0.471876   33.240885    0.348958  \n",
       "std      7.884160                  0.331329   11.760232    0.476951  \n",
       "min      0.000000                  0.078000   21.000000    0.000000  \n",
       "25%     27.300000                  0.243750   24.000000    0.000000  \n",
       "50%     32.000000                  0.372500   29.000000    0.000000  \n",
       "75%     36.600000                  0.626250   41.000000    1.000000  \n",
       "max     67.100000                  2.420000   81.000000    1.000000  "
      ]
     },
     "execution_count": 7,
     "metadata": {},
     "output_type": "execute_result"
    }
   ],
   "source": [
    "data.describe()"
   ]
  },
  {
   "cell_type": "markdown",
   "id": "19134bb0",
   "metadata": {},
   "source": [
    "From above **EDA** we can see for all the columns there is **no null** data for any of the 768 rows. We can observe for all columns in the dataset the **minimum value is 0**, which is not possible, we need to **replace** them with **mean/median** values in making the dataset reliable."
   ]
  },
  {
   "cell_type": "markdown",
   "id": "2f6c54e8",
   "metadata": {},
   "source": [
    "# Data Cleaning"
   ]
  },
  {
   "cell_type": "code",
   "execution_count": 10,
   "id": "55b3811e",
   "metadata": {},
   "outputs": [
    {
     "data": {
      "text/plain": [
       "Pregnancies                 0\n",
       "Glucose                     0\n",
       "BloodPressure               0\n",
       "SkinThickness               0\n",
       "Insulin                     0\n",
       "BMI                         0\n",
       "DiabetesPedigreeFunction    0\n",
       "Age                         0\n",
       "Outcome                     0\n",
       "dtype: int64"
      ]
     },
     "execution_count": 10,
     "metadata": {},
     "output_type": "execute_result"
    }
   ],
   "source": [
    "data.isnull().sum()"
   ]
  },
  {
   "cell_type": "code",
   "execution_count": 11,
   "id": "54ff8257",
   "metadata": {},
   "outputs": [
    {
     "data": {
      "text/plain": [
       "(768, 9)"
      ]
     },
     "execution_count": 11,
     "metadata": {},
     "output_type": "execute_result"
    }
   ],
   "source": [
    "# Dropping all the duplicates in the dataset\n",
    "data = data.drop_duplicates()\n",
    "data.shape"
   ]
  },
  {
   "cell_type": "markdown",
   "id": "2d21fcc5",
   "metadata": {},
   "source": [
    "It looks there are **no duplicate rows** in the dataset, so we end up with the same size of the dataset"
   ]
  },
  {
   "cell_type": "markdown",
   "id": "43d6c353",
   "metadata": {},
   "source": [
    "**Checking no of rows for each column in the dataset has value of zero**"
   ]
  },
  {
   "cell_type": "code",
   "execution_count": 12,
   "id": "f16c9e60",
   "metadata": {},
   "outputs": [
    {
     "name": "stdout",
     "output_type": "stream",
     "text": [
      "35\n",
      "5\n",
      "227\n",
      "374\n",
      "11\n"
     ]
    }
   ],
   "source": [
    "print(data[data['BloodPressure']==0].shape[0])\n",
    "print(data[data['Glucose']==0].shape[0])\n",
    "print(data[data['SkinThickness']==0].shape[0])\n",
    "print(data[data['Insulin']==0].shape[0])\n",
    "print(data[data['BMI']==0].shape[0])"
   ]
  },
  {
   "cell_type": "markdown",
   "id": "cb1527ec",
   "metadata": {},
   "source": [
    "**Looking over outliers**"
   ]
  },
  {
   "cell_type": "code",
   "execution_count": 13,
   "id": "0a9d81cd",
   "metadata": {},
   "outputs": [
    {
     "data": {
      "text/plain": [
       "<AxesSubplot:xlabel='BloodPressure'>"
      ]
     },
     "execution_count": 13,
     "metadata": {},
     "output_type": "execute_result"
    },
    {
     "data": {
      "image/png": "[encoded data removed]",
      "text/plain": [
       "<Figure size 720x432 with 1 Axes>"
      ]
     },
     "metadata": {
      "needs_background": "light"
     },
     "output_type": "display_data"
    }
   ],
   "source": [
    "fig, ax = plt.subplots(figsize=(10,6))\n",
    "sns.boxplot(data.BloodPressure)"
   ]
  },
  {
   "cell_type": "code",
   "execution_count": 14,
   "id": "418d0544",
   "metadata": {},
   "outputs": [
    {
     "data": {
      "text/plain": [
       "<AxesSubplot:xlabel='Glucose'>"
      ]
     },
     "execution_count": 14,
     "metadata": {},
     "output_type": "execute_result"
    },
    {
     "data": {
      "image/png": "[encoded data removed]",
      "text/plain": [
       "<Figure size 720x432 with 1 Axes>"
      ]
     },
     "metadata": {
      "needs_background": "light"
     },
     "output_type": "display_data"
    }
   ],
   "source": [
    "fig, ax = plt.subplots(figsize=(10,6))\n",
    "sns.boxplot(data.Glucose)"
   ]
  },
  {
   "cell_type": "code",
   "execution_count": 15,
   "id": "980cd293",
   "metadata": {},
   "outputs": [
    {
     "data": {
      "text/plain": [
       "<AxesSubplot:xlabel='SkinThickness'>"
      ]
     },
     "execution_count": 15,
     "metadata": {},
     "output_type": "execute_result"
    },
    {
     "data": {
      "image/png": "[encoded data removed]",
      "text/plain": [
       "<Figure size 720x432 with 1 Axes>"
      ]
     },
     "metadata": {
      "needs_background": "light"
     },
     "output_type": "display_data"
    }
   ],
   "source": [
    "fig, ax = plt.subplots(figsize=(10,6))\n",
    "sns.boxplot(data.SkinThickness)"
   ]
  },
  {
   "cell_type": "code",
   "execution_count": 16,
   "id": "cc2e2422",
   "metadata": {},
   "outputs": [
    {
     "data": {
      "text/plain": [
       "<AxesSubplot:xlabel='Insulin'>"
      ]
     },
     "execution_count": 16,
     "metadata": {},
     "output_type": "execute_result"
    },
    {
     "data": {
      "image/png": "[encoded data removed]",
      "text/plain": [
       "<Figure size 720x432 with 1 Axes>"
      ]
     },
     "metadata": {
      "needs_background": "light"
     },
     "output_type": "display_data"
    }
   ],
   "source": [
    "fig, ax = plt.subplots(figsize=(10,6))\n",
    "sns.boxplot(data.Insulin)"
   ]
  },
  {
   "cell_type": "code",
   "execution_count": 17,
   "id": "6b0be231",
   "metadata": {},
   "outputs": [
    {
     "data": {
      "text/plain": [
       "<AxesSubplot:xlabel='BMI'>"
      ]
     },
     "execution_count": 17,
     "metadata": {},
     "output_type": "execute_result"
    },
    {
     "data": {
      "image/png": "[encoded data removed]",
      "text/plain": [
       "<Figure size 720x432 with 1 Axes>"
      ]
     },
     "metadata": {
      "needs_background": "light"
     },
     "output_type": "display_data"
    }
   ],
   "source": [
    "fig, ax = plt.subplots(figsize=(10,6))\n",
    "sns.boxplot(data.BMI)"
   ]
  },
  {
   "cell_type": "markdown",
   "id": "32dbe053",
   "metadata": {},
   "source": [
    "From the boxplots it is clear we have **outliers**, now we need to perform imputation to remove all outliers, we can use **mean,medina or mode imputaion in replacing the value zero.**\n",
    "As **mean is more affected by skewed distribution**, for columns we can observe skew distribution **(SkinThickness, BMI, Inusulin) we can perform median imputation** and for columns **Glucose and BloodPressure** showing normal distributions we can perform **mean imputation.**"
   ]
  },
  {
   "cell_type": "code",
   "execution_count": 18,
   "id": "78e71b3f",
   "metadata": {},
   "outputs": [],
   "source": [
    "#replacing value zero\n",
    "data['Glucose']=data['Glucose'].replace(0,data['Glucose'].mean())#normal distribution\n",
    "data['BloodPressure']=data['BloodPressure'].replace(0,data['BloodPressure'].mean())#normal distribution\n",
    "data['SkinThickness']=data['SkinThickness'].replace(0,data['SkinThickness'].median())#skewed distribution\n",
    "data['Insulin']=data['Insulin'].replace(0,data['Insulin'].median())#skewed distribution\n",
    "data['BMI']=data['BMI'].replace(0,data['BMI'].median())#skewed distribution"
   ]
  },
  {
   "cell_type": "markdown",
   "id": "9c81005c",
   "metadata": {},
   "source": [
    "# Data Visualization"
   ]
  },
  {
   "cell_type": "code",
   "execution_count": 19,
   "id": "0ede5fb1",
   "metadata": {},
   "outputs": [
    {
     "data": {
      "text/plain": [
       "<AxesSubplot:xlabel='Outcome', ylabel='count'>"
      ]
     },
     "execution_count": 19,
     "metadata": {},
     "output_type": "execute_result"
    },
    {
     "data": {
      "image/png": "[encoded data removed]",
      "text/plain": [
       "<Figure size 432x288 with 1 Axes>"
      ]
     },
     "metadata": {
      "needs_background": "light"
     },
     "output_type": "display_data"
    }
   ],
   "source": [
    "sns.countplot('Outcome',data=data)"
   ]
  },
  {
   "cell_type": "markdown",
   "id": "2b20ddb4",
   "metadata": {},
   "source": [
    "**No of people who do not have diabetes is more than people who have diabetes**"
   ]
  },
  {
   "cell_type": "code",
   "execution_count": 21,
   "id": "36e718b4",
   "metadata": {},
   "outputs": [
    {
     "data": {
      "image/png": "[encoded data removed]",
      "text/plain": [
       "<Figure size 864x864 with 9 Axes>"
      ]
     },
     "metadata": {
      "needs_background": "light"
     },
     "output_type": "display_data"
    }
   ],
   "source": [
    "data.hist(bins=10,figsize=(12,12))\n",
    "plt.show()"
   ]
  },
  {
   "cell_type": "code",
   "execution_count": 23,
   "id": "2653d6f3",
   "metadata": {},
   "outputs": [
    {
     "data": {
      "text/plain": [
       "<AxesSubplot:>"
      ]
     },
     "execution_count": 23,
     "metadata": {},
     "output_type": "execute_result"
    },
    {
     "data": {
      "image/png": "[encoded data removed]",
      "text/plain": [
       "<Figure size 1080x720 with 1 Axes>"
      ]
     },
     "metadata": {
      "needs_background": "light"
     },
     "output_type": "display_data"
    }
   ],
   "source": [
    "plt.figure(figsize=(15,10))\n",
    "sns.barplot(data=data)"
   ]
  },
  {
   "cell_type": "markdown",
   "id": "db303ccd",
   "metadata": {},
   "source": [
    "**correlation of all the columns**"
   ]
  },
  {
   "cell_type": "code",
   "execution_count": 27,
   "id": "6da5234e",
   "metadata": {},
   "outputs": [
    {
     "data": {
      "image/png": "[encoded data removed]",
      "text/plain": [
       "<Figure size 432x288 with 2 Axes>"
      ]
     },
     "metadata": {
      "needs_background": "light"
     },
     "output_type": "display_data"
    }
   ],
   "source": [
    "mask = np.triu(np.ones_like(data.corr(),dtype=bool))\n",
    "sns.heatmap(data.corr(),mask=mask,vmax=3,square=True,linewidths=5)"
   ]
  },
  {
   "cell_type": "code",
   "execution_count": 29,
   "id": "1cfc2cdc",
   "metadata": {},
   "outputs": [
    {
     "data": {
      "text/plain": [
       "<AxesSubplot:>"
      ]
     },
     "execution_count": 29,
     "metadata": {},
     "output_type": "execute_result"
    },
    {
     "data": {
      "image/png": "[encoded data removed]",
      "text/plain": [
       "<Figure size 432x288 with 2 Axes>"
      ]
     },
     "metadata": {
      "needs_background": "light"
     },
     "output_type": "display_data"
    }
   ],
   "source": [
    "sns.heatmap(data.corr(), annot=True)"
   ]
  },
  {
   "cell_type": "markdown",
   "id": "40852f5e",
   "metadata": {},
   "source": [
    "From correlation we can observe that outcome is more dependable on **Glucose, BMI and Age** than remaining columns. So removing those columns"
   ]
  },
  {
   "cell_type": "code",
   "execution_count": 31,
   "id": "c4f98327",
   "metadata": {},
   "outputs": [],
   "source": [
    "newdata=data.drop(['BloodPressure','Insulin','DiabetesPedigreeFunction'],axis='columns')"
   ]
  },
  {
   "cell_type": "code",
   "execution_count": 32,
   "id": "f9e35675",
   "metadata": {},
   "outputs": [
    {
     "data": {
      "text/html": [
       "<div>\n",
       "<style scoped>\n",
       "    .dataframe tbody tr th:only-of-type {\n",
       "        vertical-align: middle;\n",
       "    }\n",
       "\n",
       "    .dataframe tbody tr th {\n",
       "        vertical-align: top;\n",
       "    }\n",
       "\n",
       "    .dataframe thead th {\n",
       "        text-align: right;\n",
       "    }\n",
       "</style>\n",
       "<table border=\"1\" class=\"dataframe\">\n",
       "  <thead>\n",
       "    <tr style=\"text-align: right;\">\n",
       "      <th></th>\n",
       "      <th>Pregnancies</th>\n",
       "      <th>Glucose</th>\n",
       "      <th>SkinThickness</th>\n",
       "      <th>BMI</th>\n",
       "      <th>Age</th>\n",
       "      <th>Outcome</th>\n",
       "    </tr>\n",
       "  </thead>\n",
       "  <tbody>\n",
       "    <tr>\n",
       "      <th>0</th>\n",
       "      <td>6</td>\n",
       "      <td>148.0</td>\n",
       "      <td>35</td>\n",
       "      <td>33.6</td>\n",
       "      <td>50</td>\n",
       "      <td>1</td>\n",
       "    </tr>\n",
       "    <tr>\n",
       "      <th>1</th>\n",
       "      <td>1</td>\n",
       "      <td>85.0</td>\n",
       "      <td>29</td>\n",
       "      <td>26.6</td>\n",
       "      <td>31</td>\n",
       "      <td>0</td>\n",
       "    </tr>\n",
       "    <tr>\n",
       "      <th>2</th>\n",
       "      <td>8</td>\n",
       "      <td>183.0</td>\n",
       "      <td>23</td>\n",
       "      <td>23.3</td>\n",
       "      <td>32</td>\n",
       "      <td>1</td>\n",
       "    </tr>\n",
       "    <tr>\n",
       "      <th>3</th>\n",
       "      <td>1</td>\n",
       "      <td>89.0</td>\n",
       "      <td>23</td>\n",
       "      <td>28.1</td>\n",
       "      <td>21</td>\n",
       "      <td>0</td>\n",
       "    </tr>\n",
       "    <tr>\n",
       "      <th>4</th>\n",
       "      <td>0</td>\n",
       "      <td>137.0</td>\n",
       "      <td>35</td>\n",
       "      <td>43.1</td>\n",
       "      <td>33</td>\n",
       "      <td>1</td>\n",
       "    </tr>\n",
       "  </tbody>\n",
       "</table>\n",
       "</div>"
      ],
      "text/plain": [
       "   Pregnancies  Glucose  SkinThickness   BMI  Age  Outcome\n",
       "0            6    148.0             35  33.6   50        1\n",
       "1            1     85.0             29  26.6   31        0\n",
       "2            8    183.0             23  23.3   32        1\n",
       "3            1     89.0             23  28.1   21        0\n",
       "4            0    137.0             35  43.1   33        1"
      ]
     },
     "execution_count": 32,
     "metadata": {},
     "output_type": "execute_result"
    }
   ],
   "source": [
    "newdata.head()"
   ]
  },
  {
   "cell_type": "markdown",
   "id": "b7256b91",
   "metadata": {},
   "source": [
    "# Handling Outliers"
   ]
  },
  {
   "cell_type": "markdown",
   "id": "7df447d7",
   "metadata": {},
   "source": [
    "We know we have outliers in our dataset, Handling outlier is most important thing for good predictions."
   ]
  },
  {
   "cell_type": "code",
   "execution_count": 33,
   "id": "8cc6e65b",
   "metadata": {},
   "outputs": [
    {
     "data": {
      "text/html": [
       "<div>\n",
       "<style scoped>\n",
       "    .dataframe tbody tr th:only-of-type {\n",
       "        vertical-align: middle;\n",
       "    }\n",
       "\n",
       "    .dataframe tbody tr th {\n",
       "        vertical-align: top;\n",
       "    }\n",
       "\n",
       "    .dataframe thead th {\n",
       "        text-align: right;\n",
       "    }\n",
       "</style>\n",
       "<table border=\"1\" class=\"dataframe\">\n",
       "  <thead>\n",
       "    <tr style=\"text-align: right;\">\n",
       "      <th></th>\n",
       "      <th>Pregnancies</th>\n",
       "      <th>Glucose</th>\n",
       "      <th>SkinThickness</th>\n",
       "      <th>BMI</th>\n",
       "      <th>Age</th>\n",
       "      <th>Outcome</th>\n",
       "    </tr>\n",
       "  </thead>\n",
       "  <tbody>\n",
       "    <tr>\n",
       "      <th>0</th>\n",
       "      <td>0.747718</td>\n",
       "      <td>0.810300</td>\n",
       "      <td>0.801825</td>\n",
       "      <td>0.591265</td>\n",
       "      <td>0.889831</td>\n",
       "      <td>1.0</td>\n",
       "    </tr>\n",
       "    <tr>\n",
       "      <th>1</th>\n",
       "      <td>0.232725</td>\n",
       "      <td>0.091265</td>\n",
       "      <td>0.644720</td>\n",
       "      <td>0.213168</td>\n",
       "      <td>0.558670</td>\n",
       "      <td>0.0</td>\n",
       "    </tr>\n",
       "    <tr>\n",
       "      <th>2</th>\n",
       "      <td>0.863755</td>\n",
       "      <td>0.956975</td>\n",
       "      <td>0.357888</td>\n",
       "      <td>0.077575</td>\n",
       "      <td>0.585398</td>\n",
       "      <td>1.0</td>\n",
       "    </tr>\n",
       "    <tr>\n",
       "      <th>3</th>\n",
       "      <td>0.232725</td>\n",
       "      <td>0.124511</td>\n",
       "      <td>0.357888</td>\n",
       "      <td>0.284224</td>\n",
       "      <td>0.000000</td>\n",
       "      <td>0.0</td>\n",
       "    </tr>\n",
       "    <tr>\n",
       "      <th>4</th>\n",
       "      <td>0.000000</td>\n",
       "      <td>0.721643</td>\n",
       "      <td>0.801825</td>\n",
       "      <td>0.926988</td>\n",
       "      <td>0.606258</td>\n",
       "      <td>1.0</td>\n",
       "    </tr>\n",
       "  </tbody>\n",
       "</table>\n",
       "</div>"
      ],
      "text/plain": [
       "   Pregnancies   Glucose  SkinThickness       BMI       Age  Outcome\n",
       "0     0.747718  0.810300       0.801825  0.591265  0.889831      1.0\n",
       "1     0.232725  0.091265       0.644720  0.213168  0.558670      0.0\n",
       "2     0.863755  0.956975       0.357888  0.077575  0.585398      1.0\n",
       "3     0.232725  0.124511       0.357888  0.284224  0.000000      0.0\n",
       "4     0.000000  0.721643       0.801825  0.926988  0.606258      1.0"
      ]
     },
     "execution_count": 33,
     "metadata": {},
     "output_type": "execute_result"
    }
   ],
   "source": [
    "from sklearn.preprocessing import QuantileTransformer\n",
    "x=newdata\n",
    "quantile  = QuantileTransformer()\n",
    "X = quantile.fit_transform(x)\n",
    "finaldata=quantile.transform(X)\n",
    "finaldata=pd.DataFrame(X)\n",
    "finaldata.columns =['Pregnancies', 'Glucose','SkinThickness','BMI','Age','Outcome']\n",
    "finaldata.head()"
   ]
  },
  {
   "cell_type": "code",
   "execution_count": 36,
   "id": "d0f6b1d2",
   "metadata": {},
   "outputs": [
    {
     "data": {
      "text/plain": [
       "<AxesSubplot:xlabel='Glucose'>"
      ]
     },
     "execution_count": 36,
     "metadata": {},
     "output_type": "execute_result"
    },
    {
     "data": {
      "image/png": "[encoded data removed]",
      "text/plain": [
       "<Figure size 720x432 with 1 Axes>"
      ]
     },
     "metadata": {
      "needs_background": "light"
     },
     "output_type": "display_data"
    }
   ],
   "source": [
    "fig, ax = plt.subplots(figsize=(10,6))\n",
    "sns.boxplot(finaldata.Glucose)"
   ]
  },
  {
   "cell_type": "code",
   "execution_count": 37,
   "id": "85dd756a",
   "metadata": {},
   "outputs": [
    {
     "data": {
      "text/plain": [
       "<AxesSubplot:xlabel='BMI'>"
      ]
     },
     "execution_count": 37,
     "metadata": {},
     "output_type": "execute_result"
    },
    {
     "data": {
      "image/png": "[encoded data removed]",
      "text/plain": [
       "<Figure size 720x432 with 1 Axes>"
      ]
     },
     "metadata": {
      "needs_background": "light"
     },
     "output_type": "display_data"
    }
   ],
   "source": [
    "fig, ax = plt.subplots(figsize=(10,6))\n",
    "sns.boxplot(finaldata.BMI)"
   ]
  },
  {
   "cell_type": "code",
   "execution_count": 38,
   "id": "87c18b85",
   "metadata": {},
   "outputs": [
    {
     "data": {
      "text/plain": [
       "<AxesSubplot:xlabel='Pregnancies'>"
      ]
     },
     "execution_count": 38,
     "metadata": {},
     "output_type": "execute_result"
    },
    {
     "data": {
      "image/png": "[encoded data removed]",
      "text/plain": [
       "<Figure size 720x432 with 1 Axes>"
      ]
     },
     "metadata": {
      "needs_background": "light"
     },
     "output_type": "display_data"
    }
   ],
   "source": [
    "fig, ax = plt.subplots(figsize=(10,6))\n",
    "sns.boxplot(finaldata.Pregnancies)"
   ]
  },
  {
   "cell_type": "code",
   "execution_count": 39,
   "id": "09355d04",
   "metadata": {},
   "outputs": [
    {
     "data": {
      "text/plain": [
       "<AxesSubplot:xlabel='Age'>"
      ]
     },
     "execution_count": 39,
     "metadata": {},
     "output_type": "execute_result"
    },
    {
     "data": {
      "image/png": "[encoded data removed]",
      "text/plain": [
       "<Figure size 720x432 with 1 Axes>"
      ]
     },
     "metadata": {
      "needs_background": "light"
     },
     "output_type": "display_data"
    }
   ],
   "source": [
    "fig, ax = plt.subplots(figsize=(10,6))\n",
    "sns.boxplot(finaldata.Age)"
   ]
  },
  {
   "cell_type": "code",
   "execution_count": 40,
   "id": "a63ca5d8",
   "metadata": {},
   "outputs": [
    {
     "data": {
      "text/plain": [
       "<AxesSubplot:xlabel='SkinThickness'>"
      ]
     },
     "execution_count": 40,
     "metadata": {},
     "output_type": "execute_result"
    },
    {
     "data": {
      "image/png": "[encoded data removed]",
      "text/plain": [
       "<Figure size 720x432 with 1 Axes>"
      ]
     },
     "metadata": {
      "needs_background": "light"
     },
     "output_type": "display_data"
    }
   ],
   "source": [
    "fig, ax = plt.subplots(figsize=(10,6))\n",
    "sns.boxplot(finaldata.SkinThickness)"
   ]
  },
  {
   "cell_type": "markdown",
   "id": "9c5a96aa",
   "metadata": {},
   "source": [
    "Now from above all box plots we can observe and say that **all outliers are removed** from all columns."
   ]
  },
  {
   "cell_type": "markdown",
   "id": "ca5b28c2",
   "metadata": {},
   "source": [
    "# Splitting data into Independent and Dependent data"
   ]
  },
  {
   "cell_type": "code",
   "execution_count": 41,
   "id": "96f9d697",
   "metadata": {},
   "outputs": [],
   "source": [
    "X = finaldata.drop('Outcome',axis=1)\n",
    "y = finaldata['Outcome']"
   ]
  },
  {
   "cell_type": "code",
   "execution_count": 42,
   "id": "616ff054",
   "metadata": {},
   "outputs": [
    {
     "data": {
      "text/html": [
       "<div>\n",
       "<style scoped>\n",
       "    .dataframe tbody tr th:only-of-type {\n",
       "        vertical-align: middle;\n",
       "    }\n",
       "\n",
       "    .dataframe tbody tr th {\n",
       "        vertical-align: top;\n",
       "    }\n",
       "\n",
       "    .dataframe thead th {\n",
       "        text-align: right;\n",
       "    }\n",
       "</style>\n",
       "<table border=\"1\" class=\"dataframe\">\n",
       "  <thead>\n",
       "    <tr style=\"text-align: right;\">\n",
       "      <th></th>\n",
       "      <th>Pregnancies</th>\n",
       "      <th>Glucose</th>\n",
       "      <th>SkinThickness</th>\n",
       "      <th>BMI</th>\n",
       "      <th>Age</th>\n",
       "    </tr>\n",
       "  </thead>\n",
       "  <tbody>\n",
       "    <tr>\n",
       "      <th>0</th>\n",
       "      <td>0.747718</td>\n",
       "      <td>0.810300</td>\n",
       "      <td>0.801825</td>\n",
       "      <td>0.591265</td>\n",
       "      <td>0.889831</td>\n",
       "    </tr>\n",
       "    <tr>\n",
       "      <th>1</th>\n",
       "      <td>0.232725</td>\n",
       "      <td>0.091265</td>\n",
       "      <td>0.644720</td>\n",
       "      <td>0.213168</td>\n",
       "      <td>0.558670</td>\n",
       "    </tr>\n",
       "    <tr>\n",
       "      <th>2</th>\n",
       "      <td>0.863755</td>\n",
       "      <td>0.956975</td>\n",
       "      <td>0.357888</td>\n",
       "      <td>0.077575</td>\n",
       "      <td>0.585398</td>\n",
       "    </tr>\n",
       "    <tr>\n",
       "      <th>3</th>\n",
       "      <td>0.232725</td>\n",
       "      <td>0.124511</td>\n",
       "      <td>0.357888</td>\n",
       "      <td>0.284224</td>\n",
       "      <td>0.000000</td>\n",
       "    </tr>\n",
       "    <tr>\n",
       "      <th>4</th>\n",
       "      <td>0.000000</td>\n",
       "      <td>0.721643</td>\n",
       "      <td>0.801825</td>\n",
       "      <td>0.926988</td>\n",
       "      <td>0.606258</td>\n",
       "    </tr>\n",
       "  </tbody>\n",
       "</table>\n",
       "</div>"
      ],
      "text/plain": [
       "   Pregnancies   Glucose  SkinThickness       BMI       Age\n",
       "0     0.747718  0.810300       0.801825  0.591265  0.889831\n",
       "1     0.232725  0.091265       0.644720  0.213168  0.558670\n",
       "2     0.863755  0.956975       0.357888  0.077575  0.585398\n",
       "3     0.232725  0.124511       0.357888  0.284224  0.000000\n",
       "4     0.000000  0.721643       0.801825  0.926988  0.606258"
      ]
     },
     "execution_count": 42,
     "metadata": {},
     "output_type": "execute_result"
    }
   ],
   "source": [
    "X.head()"
   ]
  },
  {
   "cell_type": "markdown",
   "id": "8113a5d8",
   "metadata": {},
   "source": [
    "# Splitting data into training dataset and test dataset"
   ]
  },
  {
   "cell_type": "code",
   "execution_count": 43,
   "id": "fffb12a2",
   "metadata": {},
   "outputs": [],
   "source": [
    "from sklearn.model_selection import train_test_split\n",
    "X_train, X_test, y_train, y_test= train_test_split(X,y,test_size=0.2,random_state=0)"
   ]
  },
  {
   "cell_type": "code",
   "execution_count": 44,
   "id": "b9a50a18",
   "metadata": {},
   "outputs": [
    {
     "data": {
      "text/plain": [
       "((614, 5), (614,), (154, 5), (154,))"
      ]
     },
     "execution_count": 44,
     "metadata": {},
     "output_type": "execute_result"
    }
   ],
   "source": [
    "X_train.shape,y_train.shape,X_test.shape,y_test.shape"
   ]
  },
  {
   "cell_type": "markdown",
   "id": "c6bb17a5",
   "metadata": {},
   "source": [
    "# Algortihms Building"
   ]
  },
  {
   "cell_type": "markdown",
   "id": "933d881c",
   "metadata": {},
   "source": [
    "# 1. Logistic Regression"
   ]
  },
  {
   "cell_type": "code",
   "execution_count": 49,
   "id": "b5aa8982",
   "metadata": {},
   "outputs": [
    {
     "name": "stdout",
     "output_type": "stream",
     "text": [
      "tuned hpyerparameters :(best parameters)  {'C': 1.0, 'penalty': 'l2'}\n",
      "accuracy : 0.7670015864621893\n"
     ]
    }
   ],
   "source": [
    "from sklearn.model_selection import GridSearchCV\n",
    "from sklearn.linear_model import LogisticRegression\n",
    "grid={\"C\":np.logspace(-3,3,7), \"penalty\":[\"l1\",\"l2\"]}# l1 lasso l2 ridge\n",
    "logreg=LogisticRegression()\n",
    "logreg_cv=GridSearchCV(logreg,grid,cv=10)\n",
    "logreg_cv.fit(X_train,y_train)\n",
    "lg = logreg_cv.predict(X_test)\n",
    "\n",
    "print(\"tuned hpyerparameters :(best parameters) \",logreg_cv.best_params_)\n",
    "print(\"accuracy :\",logreg_cv.best_score_)"
   ]
  },
  {
   "cell_type": "markdown",
   "id": "9d78f87d",
   "metadata": {},
   "source": [
    "**Evaluation of Metrics**"
   ]
  },
  {
   "cell_type": "code",
   "execution_count": 50,
   "id": "319d1cb6",
   "metadata": {},
   "outputs": [
    {
     "name": "stdout",
     "output_type": "stream",
     "text": [
      "Classification Report is:\n",
      "               precision    recall  f1-score   support\n",
      "\n",
      "         0.0       0.83      0.89      0.86       107\n",
      "         1.0       0.69      0.57      0.63        47\n",
      "\n",
      "    accuracy                           0.79       154\n",
      "   macro avg       0.76      0.73      0.74       154\n",
      "weighted avg       0.79      0.79      0.79       154\n",
      "\n",
      "\n",
      " F1:\n",
      " 0.627906976744186\n",
      "\n",
      " Precision score is:\n",
      " 0.6923076923076923\n",
      "\n",
      " Recall score is:\n",
      " 0.574468085106383\n",
      "\n",
      " Confusion Matrix:\n",
      "\n"
     ]
    },
    {
     "data": {
      "text/plain": [
       "<AxesSubplot:>"
      ]
     },
     "execution_count": 50,
     "metadata": {},
     "output_type": "execute_result"
    },
    {
     "data": {
      "image/png": "[encoded data removed]",
      "text/plain": [
       "<Figure size 432x288 with 2 Axes>"
      ]
     },
     "metadata": {
      "needs_background": "light"
     },
     "output_type": "display_data"
    }
   ],
   "source": [
    "from sklearn.metrics import classification_report,confusion_matrix\n",
    "from sklearn.metrics import f1_score, precision_score, recall_score\n",
    "print(\"Classification Report is:\\n\",classification_report(y_test,lg))\n",
    "print(\"\\n F1:\\n\",f1_score(y_test,lg))\n",
    "print(\"\\n Precision score is:\\n\",precision_score(y_test,lg))\n",
    "print(\"\\n Recall score is:\\n\",recall_score(y_test,lg))\n",
    "print(\"\\n Confusion Matrix:\\n\")\n",
    "sns.heatmap(confusion_matrix(y_test,lg))"
   ]
  },
  {
   "cell_type": "markdown",
   "id": "7ce60e83",
   "metadata": {},
   "source": [
    "# 2. KNN (K-Nearest Neighbours)"
   ]
  },
  {
   "cell_type": "code",
   "execution_count": 55,
   "id": "9b4d2990",
   "metadata": {},
   "outputs": [
    {
     "name": "stdout",
     "output_type": "stream",
     "text": [
      "Fitting 10 folds for each of 30 candidates, totalling 300 fits\n",
      "{'n_neighbors': 27}\n",
      "0.7588048651507139\n"
     ]
    }
   ],
   "source": [
    "from sklearn.neighbors import KNeighborsClassifier\n",
    "knn = KNeighborsClassifier()\n",
    "k_range = list(range(1, 31))\n",
    "param_grid = dict(n_neighbors=k_range)\n",
    "# defining parameter range\n",
    "grid = GridSearchCV(knn, param_grid, cv=10, scoring='accuracy', return_train_score=False,verbose=1) \n",
    "# fitting the model for grid search\n",
    "grid.fit(X_train, y_train)\n",
    "knn_predict = grid.predict(X_test)\n",
    "print(grid.best_params_)\n",
    "print(grid.best_score_)"
   ]
  },
  {
   "cell_type": "markdown",
   "id": "524246ff",
   "metadata": {},
   "source": [
    "**Evaluation of Metrics**"
   ]
  },
  {
   "cell_type": "code",
   "execution_count": 56,
   "id": "443068a4",
   "metadata": {},
   "outputs": [
    {
     "name": "stdout",
     "output_type": "stream",
     "text": [
      "Classification Report is:\n",
      "               precision    recall  f1-score   support\n",
      "\n",
      "         0.0       0.83      0.89      0.86       107\n",
      "         1.0       0.69      0.57      0.63        47\n",
      "\n",
      "    accuracy                           0.79       154\n",
      "   macro avg       0.76      0.73      0.74       154\n",
      "weighted avg       0.79      0.79      0.79       154\n",
      "\n",
      "\n",
      " F1:\n",
      " 0.627906976744186\n",
      "\n",
      " Precision score is:\n",
      " 0.6923076923076923\n",
      "\n",
      " Recall score is:\n",
      " 0.574468085106383\n",
      "\n",
      " Confusion Matrix:\n",
      "\n"
     ]
    },
    {
     "data": {
      "text/plain": [
       "<AxesSubplot:>"
      ]
     },
     "execution_count": 56,
     "metadata": {},
     "output_type": "execute_result"
    },
    {
     "data": {
      "image/png": "[encoded data removed]",
      "text/plain": [
       "<Figure size 432x288 with 2 Axes>"
      ]
     },
     "metadata": {
      "needs_background": "light"
     },
     "output_type": "display_data"
    }
   ],
   "source": [
    "print(\"Classification Report is:\\n\",classification_report(y_test,knn_predict))\n",
    "print(\"\\n F1:\\n\",f1_score(y_test,knn_predict))\n",
    "print(\"\\n Precision score is:\\n\",precision_score(y_test,knn_predict))\n",
    "print(\"\\n Recall score is:\\n\",recall_score(y_test,knn_predict))\n",
    "print(\"\\n Confusion Matrix:\\n\")\n",
    "sns.heatmap(confusion_matrix(y_test,knn_predict))"
   ]
  },
  {
   "cell_type": "markdown",
   "id": "8d5d1b82",
   "metadata": {},
   "source": [
    "# 3. Decision Tree"
   ]
  },
  {
   "cell_type": "code",
   "execution_count": 62,
   "id": "e9eb8cce",
   "metadata": {},
   "outputs": [
    {
     "name": "stdout",
     "output_type": "stream",
     "text": [
      "Fitting 4 folds for each of 40 candidates, totalling 160 fits\n"
     ]
    }
   ],
   "source": [
    "from sklearn.metrics import accuracy_score\n",
    "from sklearn.tree import DecisionTreeClassifier\n",
    "dtc = DecisionTreeClassifier()\n",
    "params = {\n",
    "    'max_depth': [5, 10, 20,25],\n",
    "    'min_samples_leaf': [10, 20, 50, 100,120],\n",
    "    'criterion': [\"gini\", \"entropy\"]\n",
    "}\n",
    "grid_search = GridSearchCV(estimator=dtc, \n",
    "                           param_grid=params, \n",
    "                           cv=4, n_jobs=-1, verbose=1, scoring = \"accuracy\")\n",
    "grid_search.fit(X_train,y_train)\n",
    "dtc_predict = grid_search.predict(X_test)"
   ]
  },
  {
   "cell_type": "code",
   "execution_count": 63,
   "id": "08df0477",
   "metadata": {},
   "outputs": [
    {
     "name": "stdout",
     "output_type": "stream",
     "text": [
      "Classification Report is:\n",
      "               precision    recall  f1-score   support\n",
      "\n",
      "         0.0       0.80      0.94      0.86       107\n",
      "         1.0       0.78      0.45      0.57        47\n",
      "\n",
      "    accuracy                           0.79       154\n",
      "   macro avg       0.79      0.70      0.72       154\n",
      "weighted avg       0.79      0.79      0.77       154\n",
      "\n",
      "\n",
      " F1:\n",
      " 0.5675675675675675\n",
      "\n",
      " Precision score is:\n",
      " 0.7777777777777778\n",
      "\n",
      " Recall score is:\n",
      " 0.44680851063829785\n",
      "\n",
      " Confusion Matrix:\n",
      "\n"
     ]
    },
    {
     "data": {
      "text/plain": [
       "<AxesSubplot:>"
      ]
     },
     "execution_count": 63,
     "metadata": {},
     "output_type": "execute_result"
    },
    {
     "data": {
      "image/png": "[encoded data removed]",
      "text/plain": [
       "<Figure size 432x288 with 2 Axes>"
      ]
     },
     "metadata": {
      "needs_background": "light"
     },
     "output_type": "display_data"
    }
   ],
   "source": [
    "print(\"Classification Report is:\\n\",classification_report(y_test,dtc_predict))\n",
    "print(\"\\n F1:\\n\",f1_score(y_test,dtc_predict))\n",
    "print(\"\\n Precision score is:\\n\",precision_score(y_test,dtc_predict))\n",
    "print(\"\\n Recall score is:\\n\",recall_score(y_test,dtc_predict))\n",
    "print(\"\\n Confusion Matrix:\\n\")\n",
    "sns.heatmap(confusion_matrix(y_test,dtc_predict))"
   ]
  },
  {
   "cell_type": "markdown",
   "id": "5540bcf8",
   "metadata": {},
   "source": [
    "# 4. Random Forest"
   ]
  },
  {
   "cell_type": "code",
   "execution_count": 68,
   "id": "a909ad03",
   "metadata": {},
   "outputs": [
    {
     "name": "stdout",
     "output_type": "stream",
     "text": [
      "{'criterion': 'entropy', 'max_depth': 6, 'max_features': 'auto', 'n_estimators': 500}\n",
      "0.7655337864854058\n"
     ]
    }
   ],
   "source": [
    "from sklearn.ensemble import RandomForestClassifier\n",
    "rfc=RandomForestClassifier(random_state=42)\n",
    "param_grid = { \n",
    "    'n_estimators': [200, 500],\n",
    "    'max_features': ['auto', 'sqrt', 'log2'],\n",
    "    'max_depth' : [4,5,6,7,8],\n",
    "    'criterion' :['gini', 'entropy']\n",
    "}\n",
    "CV_rfc = GridSearchCV(estimator=rfc, param_grid=param_grid, cv= 5)\n",
    "CV_rfc.fit(X_train, y_train)\n",
    "rf_predict = CV_rfc.predict(X_test)\n",
    "print(CV_rfc.best_params_)\n",
    "print(CV_rfc.best_score_)"
   ]
  },
  {
   "cell_type": "code",
   "execution_count": 71,
   "id": "fa8b7238",
   "metadata": {},
   "outputs": [
    {
     "name": "stdout",
     "output_type": "stream",
     "text": [
      "Classification Report is:\n",
      "               precision    recall  f1-score   support\n",
      "\n",
      "         0.0       0.85      0.89      0.87       107\n",
      "         1.0       0.71      0.64      0.67        47\n",
      "\n",
      "    accuracy                           0.81       154\n",
      "   macro avg       0.78      0.76      0.77       154\n",
      "weighted avg       0.81      0.81      0.81       154\n",
      "\n",
      "\n",
      " F1:\n",
      " 0.6741573033707866\n",
      "\n",
      " Precision score is:\n",
      " 0.7142857142857143\n",
      "\n",
      " Recall score is:\n",
      " 0.6382978723404256\n",
      "\n",
      " Confusion Matrix:\n",
      "\n"
     ]
    },
    {
     "data": {
      "text/plain": [
       "<AxesSubplot:>"
      ]
     },
     "execution_count": 71,
     "metadata": {},
     "output_type": "execute_result"
    },
    {
     "data": {
      "image/png": "[encoded data removed]",
      "text/plain": [
       "<Figure size 432x288 with 2 Axes>"
      ]
     },
     "metadata": {
      "needs_background": "light"
     },
     "output_type": "display_data"
    }
   ],
   "source": [
    "print(\"Classification Report is:\\n\",classification_report(y_test,rf_predict))\n",
    "print(\"\\n F1:\\n\",f1_score(y_test,rf_predict))\n",
    "print(\"\\n Precision score is:\\n\",precision_score(y_test,rf_predict))\n",
    "print(\"\\n Recall score is:\\n\",recall_score(y_test,rf_predict))\n",
    "print(\"\\n Confusion Matrix:\\n\")\n",
    "sns.heatmap(confusion_matrix(y_test,rf_predict))"
   ]
  },
  {
   "cell_type": "markdown",
   "id": "55a87cc7",
   "metadata": {},
   "source": [
    "# 5. Support Vector Machine"
   ]
  },
  {
   "cell_type": "code",
   "execution_count": 87,
   "id": "f267aa20",
   "metadata": {},
   "outputs": [],
   "source": [
    "from sklearn.svm import SVC\n",
    "from sklearn.model_selection import RepeatedStratifiedKFold\n",
    "model =  SVC()\n",
    "param_grid = {'C': [0.1,0.01, 1.0, 10,50, 100, 1000], \n",
    "              'gamma': ['scale'],\n",
    "              'kernel': ['rbf','poly','sigmoid']} \n",
    "cv = RepeatedStratifiedKFold(n_splits=10, n_repeats=3, random_state=1)  \n",
    "grid = GridSearchCV(estimator=model, param_grid=param_grid, n_jobs=-1, cv=cv, scoring='f1',error_score=0)\n",
    "# fitting the model for grid search\n",
    "grid.fit(X_train, y_train)\n",
    "svm_predict = grid.predict(X_test)"
   ]
  },
  {
   "cell_type": "code",
   "execution_count": 88,
   "id": "3684362b",
   "metadata": {},
   "outputs": [
    {
     "name": "stdout",
     "output_type": "stream",
     "text": [
      "Classification Report is:\n",
      "               precision    recall  f1-score   support\n",
      "\n",
      "         0.0       0.81      0.92      0.86       107\n",
      "         1.0       0.73      0.51      0.60        47\n",
      "\n",
      "    accuracy                           0.79       154\n",
      "   macro avg       0.77      0.71      0.73       154\n",
      "weighted avg       0.78      0.79      0.78       154\n",
      "\n",
      "\n",
      " F1:\n",
      " 0.5999999999999999\n",
      "\n",
      " Precision score is:\n",
      " 0.7272727272727273\n",
      "\n",
      " Recall score is:\n",
      " 0.5106382978723404\n",
      "\n",
      " Confusion Matrix:\n",
      "\n"
     ]
    },
    {
     "data": {
      "text/plain": [
       "<AxesSubplot:>"
      ]
     },
     "execution_count": 88,
     "metadata": {},
     "output_type": "execute_result"
    },
    {
     "data": {
      "image/png": "[encoded data removed]",
      "text/plain": [
       "<Figure size 432x288 with 2 Axes>"
      ]
     },
     "metadata": {
      "needs_background": "light"
     },
     "output_type": "display_data"
    }
   ],
   "source": [
    "print(\"Classification Report is:\\n\",classification_report(y_test,svm_predict))\n",
    "print(\"\\n F1:\\n\",f1_score(y_test,svm_predict))\n",
    "print(\"\\n Precision score is:\\n\",precision_score(y_test,svm_predict))\n",
    "print(\"\\n Recall score is:\\n\",recall_score(y_test,svm_predict))\n",
    "print(\"\\n Confusion Matrix:\\n\")\n",
    "sns.heatmap(confusion_matrix(y_test,svm_predict))"
   ]
  },
  {
   "cell_type": "markdown",
   "id": "64ef04f0",
   "metadata": {},
   "source": [
    "# 6. Naive Bayes"
   ]
  },
  {
   "cell_type": "code",
   "execution_count": 76,
   "id": "0ff1b39e",
   "metadata": {},
   "outputs": [
    {
     "name": "stdout",
     "output_type": "stream",
     "text": [
      "Fitting 10 folds for each of 100 candidates, totalling 1000 fits\n"
     ]
    }
   ],
   "source": [
    "from sklearn.naive_bayes import GaussianNB\n",
    "param_grid_nb = {\n",
    "    'var_smoothing': np.logspace(0,-2, num=100)\n",
    "}\n",
    "nbModel_grid = GridSearchCV(estimator=GaussianNB(), param_grid=param_grid_nb, verbose=1, cv=10, n_jobs=-1)\n",
    "nbModel_grid.fit(X_train, y_train)\n",
    "nb_predict = nbModel_grid.predict(X_test)"
   ]
  },
  {
   "cell_type": "code",
   "execution_count": 77,
   "id": "070c1c76",
   "metadata": {},
   "outputs": [
    {
     "name": "stdout",
     "output_type": "stream",
     "text": [
      "Classification Report is:\n",
      "               precision    recall  f1-score   support\n",
      "\n",
      "         0.0       0.81      0.87      0.84       107\n",
      "         1.0       0.64      0.53      0.58        47\n",
      "\n",
      "    accuracy                           0.77       154\n",
      "   macro avg       0.72      0.70      0.71       154\n",
      "weighted avg       0.76      0.77      0.76       154\n",
      "\n",
      "\n",
      " F1:\n",
      " 0.5813953488372093\n",
      "\n",
      " Precision score is:\n",
      " 0.6410256410256411\n",
      "\n",
      " Recall score is:\n",
      " 0.5319148936170213\n",
      "\n",
      " Confusion Matrix:\n",
      "\n"
     ]
    },
    {
     "data": {
      "text/plain": [
       "<AxesSubplot:>"
      ]
     },
     "execution_count": 77,
     "metadata": {},
     "output_type": "execute_result"
    },
    {
     "data": {
      "image/png": "[encoded data removed]",
      "text/plain": [
       "<Figure size 432x288 with 2 Axes>"
      ]
     },
     "metadata": {
      "needs_background": "light"
     },
     "output_type": "display_data"
    }
   ],
   "source": [
    "print(\"Classification Report is:\\n\",classification_report(y_test,nb_predict))\n",
    "print(\"\\n F1:\\n\",f1_score(y_test,nb_predict))\n",
    "print(\"\\n Precision score is:\\n\",precision_score(y_test,nb_predict))\n",
    "print(\"\\n Recall score is:\\n\",recall_score(y_test,nb_predict))\n",
    "print(\"\\n Confusion Matrix:\\n\")\n",
    "sns.heatmap(confusion_matrix(y_test,nb_predict))"
   ]
  },
  {
   "cell_type": "code",
   "execution_count": null,
   "id": "caefa5fb",
   "metadata": {},
   "outputs": [],
   "source": []
  }
 ],
 "metadata": {
  "kernelspec": {
   "display_name": "Python 3 (ipykernel)",
   "language": "python",
   "name": "python3"
  },
  "language_info": {
   "codemirror_mode": {
    "name": "ipython",
    "version": 3
   },
   "file_extension": ".py",
   "mimetype": "text/x-python",
   "name": "python",
   "nbconvert_exporter": "python",
   "pygments_lexer": "ipython3",
   "version": "3.9.12"
  }
 },
 "nbformat": 4,
 "nbformat_minor": 5
}
